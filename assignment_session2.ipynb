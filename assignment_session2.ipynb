{
 "cells": [
  {
   "cell_type": "markdown",
   "metadata": {},
   "source": [
    "# ASSIGNMENT_SESSION_2 'PYTHON'"
   ]
  },
  {
   "cell_type": "markdown",
   "metadata": {},
   "source": [
    "## Tuple exercises"
   ]
  },
  {
   "cell_type": "markdown",
   "metadata": {},
   "source": [
    "### 1. Write a Python program to create a tuple of numbers and print one item "
   ]
  },
  {
   "cell_type": "code",
   "execution_count": null,
   "metadata": {},
   "outputs": [],
   "source": [
    "tuple_1 = (2,3,4,6,8,9,10)\n",
    "\n",
    "print(tuple_1[1])"
   ]
  },
  {
   "cell_type": "markdown",
   "metadata": {},
   "source": [
    "### 2. Write a Python program to unpack a tuple into several variables."
   ]
  },
  {
   "cell_type": "code",
   "execution_count": null,
   "metadata": {},
   "outputs": [],
   "source": [
    "tuple_2 = (\"Hossa\",\" Hassan\",\" mohamed\")\n",
    "print(tuple_2)\n",
    "\n",
    "fname, mname, lname = tuple_2\n",
    "print(fname + mname + lname)"
   ]
  },
  {
   "cell_type": "markdown",
   "metadata": {},
   "source": [
    "### 3. Write a Python program to add an item to a tuple at index number 2"
   ]
  },
  {
   "cell_type": "code",
   "execution_count": null,
   "metadata": {},
   "outputs": [],
   "source": [
    "tuple_3 = (5,10,20,25)\n",
    "print(tuple_3)\n",
    "\n",
    "\n",
    "tuple_3 = list(tuple_3)\n",
    "tuple_3.insert(2,15)\n",
    "tuple_3 = tuple(tuple_3)\n",
    "print(tuple_3)"
   ]
  },
  {
   "cell_type": "markdown",
   "metadata": {},
   "source": [
    "### 4. Write a Python program to convert a tuple to a string."
   ]
  },
  {
   "cell_type": "code",
   "execution_count": null,
   "metadata": {},
   "outputs": [],
   "source": [
    "tuple_4 = ('e', 'x', 'e', 'r', 'c', 'i', 's', 'e', 's')\n",
    "print(tuple_4)\n",
    "\n",
    "tuple_4 = \"\".join(list(tuple_4))\n",
    "print(tuple_4)"
   ]
  },
  {
   "cell_type": "markdown",
   "metadata": {},
   "source": [
    "### 5. Write a Python program to find repeated items in a tuple."
   ]
  },
  {
   "cell_type": "code",
   "execution_count": null,
   "metadata": {},
   "outputs": [],
   "source": [
    "tuple_5 = (2,3,3,3,4,5,5,6,7,7,7,7,8,9,10)\n",
    "\n",
    "for number in tuple_5 :\n",
    "    if tuple_5.count(number) > 1 :\n",
    "        print(f\"The number {number} repeated\")\n",
    "    else:\n",
    "        print(f\"The number {number} not repeated\")\n",
    "   "
   ]
  },
  {
   "cell_type": "markdown",
   "metadata": {},
   "source": [
    "### 6. Write a Python program to remove an item from a tuple"
   ]
  },
  {
   "cell_type": "code",
   "execution_count": null,
   "metadata": {},
   "outputs": [],
   "source": [
    "tuple_6 = (2,3,4,5,6)\n",
    "tuple_6 = list(tuple_6)\n",
    "tuple_6.remove(5)\n",
    "tuple_6 = tuple(tuple_6)\n",
    "\n",
    "print(tuple_6)"
   ]
  },
  {
   "cell_type": "markdown",
   "metadata": {},
   "source": [
    "### 7. Write a Python program to reverse a tuple"
   ]
  },
  {
   "cell_type": "code",
   "execution_count": null,
   "metadata": {},
   "outputs": [],
   "source": [
    "tuple_7 = (2,3,4,5,6)\n",
    "tuple_7 = list(tuple_7) \n",
    "tuple_7.reverse()\n",
    "tuple_7 = tuple(tuple_7)\n",
    "print(tuple_7)"
   ]
  },
  {
   "cell_type": "markdown",
   "metadata": {},
   "source": [
    "### 8. Write a Python program to replace the last value of tuples in a list."
   ]
  },
  {
   "cell_type": "code",
   "execution_count": null,
   "metadata": {},
   "outputs": [],
   "source": [
    "tuple_8 = (2,3,4,5,6,\"H\")\n",
    "tuple_8 = list(tuple_8)\n",
    "tuple_8[-1] = list(tuple_8[-1])\n",
    "tuple_8 = tuple(tuple_8)\n",
    "\n",
    "print(tuple_8)"
   ]
  },
  {
   "cell_type": "markdown",
   "metadata": {},
   "source": [
    "## LList Exercises"
   ]
  },
  {
   "cell_type": "markdown",
   "metadata": {},
   "source": [
    "### 1. Create a list of your favorite fruits. Add another fruit to the end of the list using append()"
   ]
  },
  {
   "cell_type": "code",
   "execution_count": null,
   "metadata": {},
   "outputs": [],
   "source": [
    "list_1 = [\"apple\",\"panana\",\"mango\",\"orange\"]\n",
    "print(list_1)\n",
    "\n",
    "list_1.append(\"kiwi\")\n",
    "print(list_1)"
   ]
  },
  {
   "cell_type": "markdown",
   "metadata": {},
   "source": [
    "### 2. Create two lists of numbers, then extend the first list by adding all elements from the second list using extend()"
   ]
  },
  {
   "cell_type": "code",
   "execution_count": null,
   "metadata": {},
   "outputs": [],
   "source": [
    "list_2 = [1,2,3,4,5]\n",
    "list_3 = [6,7,8,9,10]\n",
    "print(list_2)\n",
    "print(list_3)\n",
    "\n",
    "list_2.extend(list_3)\n",
    "print(list_2)\n",
    "print(list_3)"
   ]
  },
  {
   "cell_type": "markdown",
   "metadata": {},
   "source": [
    "### 3. insert(index, item) Start with a list of colors. Insert a new color at the second position (index 1)"
   ]
  },
  {
   "cell_type": "code",
   "execution_count": null,
   "metadata": {},
   "outputs": [],
   "source": [
    "colors = [\"red\",\"green\",\"black\"]\n",
    "print(colors)\n",
    "\n",
    "colors.insert(1,\"blue\")\n",
    "print(colors)"
   ]
  },
  {
   "cell_type": "markdown",
   "metadata": {},
   "source": [
    "### 4. Create a list of city names with some duplicates. Use remove() to delete the first occurrence of a city"
   ]
  },
  {
   "cell_type": "code",
   "execution_count": null,
   "metadata": {},
   "outputs": [],
   "source": [
    "citys = [\"Chicago\",\"Cairo\",\"Dubai\",\"Barcelona\",\"Cairo\"]\n",
    "print(citys)\n",
    "\n",
    "citys.remove(\"Cairo\")\n",
    "print(citys)"
   ]
  },
  {
   "cell_type": "markdown",
   "metadata": {},
   "source": [
    "### 5. pop(index) Make a list of your favorite animals. Use pop() to remove the animal at the third position and store it in a variable"
   ]
  },
  {
   "cell_type": "code",
   "execution_count": 1,
   "metadata": {},
   "outputs": [
    {
     "name": "stdout",
     "output_type": "stream",
     "text": [
      "['Dog', 'Tiger', 'Lion', 'camel', 'Horse']\n",
      "camel\n",
      "['Dog', 'Tiger', 'Lion', 'Horse']\n"
     ]
    }
   ],
   "source": [
    "animals = [\"Dog\",\"Tiger\",\"Lion\",\"camel\",\"Horse\"]\n",
    "print(animals)\n",
    "\n",
    "removed = animals.pop(3)\n",
    "print(removed)\n",
    "print(animals)"
   ]
  },
  {
   "cell_type": "markdown",
   "metadata": {},
   "source": [
    "### 6. Create a list of random numbers, then clear it using clear()"
   ]
  },
  {
   "cell_type": "code",
   "execution_count": null,
   "metadata": {},
   "outputs": [],
   "source": [
    "numbers = [1,2,3,4,5,6]\n",
    "print(numbers)\n",
    "\n",
    "numbers.clear()\n",
    "print(numbers)"
   ]
  },
  {
   "cell_type": "markdown",
   "metadata": {},
   "source": [
    "## Dictionary Exercises"
   ]
  },
  {
   "cell_type": "markdown",
   "metadata": {},
   "source": [
    "### 1. Create a dictionary of country capitals. Use get() to retrieve the capital of 'France', with a default value if it’s not in the dictionary"
   ]
  },
  {
   "cell_type": "code",
   "execution_count": null,
   "metadata": {},
   "outputs": [],
   "source": [
    "country = {\"Cairo\":\"Egypt\",\"France\":\"Paris\",\"England\":\"London\"}\n",
    "\n",
    "print(country.get(\"France\",\"Not found\"))\n",
    "print(country.get(\"france\",\"Not found\"))"
   ]
  },
  {
   "cell_type": "markdown",
   "metadata": {},
   "source": [
    "### 2.Make a dictionary of programming languages and their popular frameworks. Use keys() to get a list of all languages"
   ]
  },
  {
   "cell_type": "code",
   "execution_count": null,
   "metadata": {},
   "outputs": [],
   "source": [
    "languages = {\"Java\":\"Hibernat\",\"Python\":\"Django\",\"Java Script\":\"React\",\"C++\":\"Qt\"}\n",
    "\n",
    "print(languages.keys())"
   ]
  },
  {
   "cell_type": "markdown",
   "metadata": {},
   "source": [
    "### 3. Using the previous dictionary, get a list of all frameworks using values()"
   ]
  },
  {
   "cell_type": "code",
   "execution_count": null,
   "metadata": {},
   "outputs": [],
   "source": [
    "languages = {\"Java\":\"Hibernat\",\"Python\":\"Django\",\"Java Script\":\"React\",\"C++\":\"Qt\"}\n",
    "\n",
    "print(languages.values())"
   ]
  },
  {
   "cell_type": "markdown",
   "metadata": {},
   "source": [
    "### 4. Use items() to get a list of all key-value pairs in a dictionary representing items and their prices"
   ]
  },
  {
   "cell_type": "code",
   "execution_count": null,
   "metadata": {},
   "outputs": [],
   "source": [
    "languages = {\"Java\":\"Hibernat\",\"Python\":\"Django\",\"Java Script\":\"React\",\"C++\":\"Qt\"}\n",
    "\n",
    "print(languages.items())"
   ]
  },
  {
   "cell_type": "markdown",
   "metadata": {},
   "source": [
    "### 5. Create a dictionary with some initial values, and then use update() to add more items."
   ]
  },
  {
   "cell_type": "code",
   "execution_count": null,
   "metadata": {},
   "outputs": [],
   "source": [
    "languages = {\"Java\":\"Hibernat\",\"Python\":\"Django\",\"Java Script\":\"React\",\"C++\":\"Qt\"}\n",
    "print(languages.items())\n",
    "\n",
    "languages.update({\"PHP\":\"Laravel\"})\n",
    "print(languages.items())"
   ]
  },
  {
   "cell_type": "markdown",
   "metadata": {},
   "source": [
    "### 6. Remove an item from a dictionary of students by using pop(), then store the popped value in avariable"
   ]
  },
  {
   "cell_type": "code",
   "execution_count": null,
   "metadata": {},
   "outputs": [],
   "source": [
    "students = {\"Ahmed\":25,\"Mohamed\":30,\"Mazen\":27,\"Mona\":28}\n",
    "print(students.items())\n",
    "\n",
    "removed = students.pop(\"Mona\")\n",
    "print(students.items())\n",
    "print(removed)"
   ]
  },
  {
   "cell_type": "markdown",
   "metadata": {},
   "source": [
    "### 7. Create a dictionary and use clear() to remove all items."
   ]
  },
  {
   "cell_type": "code",
   "execution_count": null,
   "metadata": {},
   "outputs": [],
   "source": [
    "students = {\"Ahmed\":25,\"Mohamed\":30,\"Mazen\":27,\"Mona\":28}\n",
    "print(students.items())\n",
    "\n",
    "students.clear()\n",
    "print(students)"
   ]
  },
  {
   "cell_type": "markdown",
   "metadata": {},
   "source": [
    "# THANK YOU     \"😎\""
   ]
  },
  {
   "cell_type": "markdown",
   "metadata": {},
   "source": [
    "### "
   ]
  }
 ],
 "metadata": {
  "kernelspec": {
   "display_name": "base",
   "language": "python",
   "name": "python3"
  },
  "language_info": {
   "codemirror_mode": {
    "name": "ipython",
    "version": 3
   },
   "file_extension": ".py",
   "mimetype": "text/x-python",
   "name": "python",
   "nbconvert_exporter": "python",
   "pygments_lexer": "ipython3",
   "version": "3.12.7"
  }
 },
 "nbformat": 4,
 "nbformat_minor": 2
}
