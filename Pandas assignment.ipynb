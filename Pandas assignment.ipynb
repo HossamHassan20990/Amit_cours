{
 "cells": [
  {
   "cell_type": "markdown",
   "metadata": {
    "id": "D7vv7luF6AI9"
   },
   "source": [
    "# Explanation of data"
   ]
  },
  {
   "cell_type": "markdown",
   "metadata": {
    "id": "KNHUt5m45s9k"
   },
   "source": [
    "## 1-total_bill:\n",
    "\n",
    "Description: The total amount of the bill (in dollars) for the meal, including the cost of food and drinks.\n",
    "Data Type: Float\n",
    "Example: 16.99\n",
    "## 2-tip:\n",
    "\n",
    "Description: The amount of the tip (in dollars) given by the customer to the server.\n",
    "Data Type: Float\n",
    "Example: 1.01\n",
    "## 3-sex:\n",
    "\n",
    "Description: The gender of the person who paid for the meal.\n",
    "Data Type: Categorical (string)\n",
    "Possible Values: 'Male', 'Female'\n",
    "Example: 'Female'\n",
    "## 4-smoker:\n",
    "\n",
    "Description: Indicates whether there were smokers in the party.\n",
    "Data Type: Categorical (string)\n",
    "Possible Values: 'Yes', 'No'\n",
    "Example: 'No'\n",
    "## 5-day:\n",
    "\n",
    "Description: The day of the week when the meal was served.\n",
    "Data Type: Categorical (string)\n",
    "Possible Values: 'Thur' (Thursday), 'Fri' (Friday), 'Sat' (Saturday), 'Sun' (Sunday)\n",
    "Example: 'Sun'\n",
    "## 6-time:\n",
    "\n",
    "Description: The time of day when the meal was served.\n",
    "Data Type: Categorical (string)\n",
    "Possible Values: 'Lunch', 'Dinner'\n",
    "Example: 'Dinner'\n",
    "## 7-size:\n",
    "\n",
    "Description: The number of people in the party.\n",
    "Data Type: Integer\n",
    "Example: 2"
   ]
  },
  {
   "cell_type": "markdown",
   "metadata": {
    "id": "X_cxp0rIzH6Y"
   },
   "source": [
    "## Load the dataset"
   ]
  },
  {
   "cell_type": "code",
   "execution_count": 80,
   "metadata": {},
   "outputs": [],
   "source": [
    "import pandas as pd\n",
    "\n",
    "df = pd.read_csv(\"tips.csv\")"
   ]
  },
  {
   "cell_type": "markdown",
   "metadata": {
    "id": "4pSqsPPKzMI-"
   },
   "source": [
    "## Display the first few rows"
   ]
  },
  {
   "cell_type": "code",
   "execution_count": 81,
   "metadata": {},
   "outputs": [
    {
     "data": {
      "text/html": [
       "<div>\n",
       "<style scoped>\n",
       "    .dataframe tbody tr th:only-of-type {\n",
       "        vertical-align: middle;\n",
       "    }\n",
       "\n",
       "    .dataframe tbody tr th {\n",
       "        vertical-align: top;\n",
       "    }\n",
       "\n",
       "    .dataframe thead th {\n",
       "        text-align: right;\n",
       "    }\n",
       "</style>\n",
       "<table border=\"1\" class=\"dataframe\">\n",
       "  <thead>\n",
       "    <tr style=\"text-align: right;\">\n",
       "      <th></th>\n",
       "      <th>total_bill</th>\n",
       "      <th>tip</th>\n",
       "      <th>sex</th>\n",
       "      <th>smoker</th>\n",
       "      <th>day</th>\n",
       "      <th>time</th>\n",
       "      <th>size</th>\n",
       "    </tr>\n",
       "  </thead>\n",
       "  <tbody>\n",
       "    <tr>\n",
       "      <th>0</th>\n",
       "      <td>16.99</td>\n",
       "      <td>1.01</td>\n",
       "      <td>Female</td>\n",
       "      <td>No</td>\n",
       "      <td>Sun</td>\n",
       "      <td>Dinner</td>\n",
       "      <td>2</td>\n",
       "    </tr>\n",
       "    <tr>\n",
       "      <th>1</th>\n",
       "      <td>10.34</td>\n",
       "      <td>1.66</td>\n",
       "      <td>Male</td>\n",
       "      <td>No</td>\n",
       "      <td>Sun</td>\n",
       "      <td>Dinner</td>\n",
       "      <td>3</td>\n",
       "    </tr>\n",
       "    <tr>\n",
       "      <th>2</th>\n",
       "      <td>21.01</td>\n",
       "      <td>3.50</td>\n",
       "      <td>Male</td>\n",
       "      <td>No</td>\n",
       "      <td>Sun</td>\n",
       "      <td>Dinner</td>\n",
       "      <td>3</td>\n",
       "    </tr>\n",
       "    <tr>\n",
       "      <th>3</th>\n",
       "      <td>23.68</td>\n",
       "      <td>3.31</td>\n",
       "      <td>Male</td>\n",
       "      <td>No</td>\n",
       "      <td>Sun</td>\n",
       "      <td>Dinner</td>\n",
       "      <td>2</td>\n",
       "    </tr>\n",
       "    <tr>\n",
       "      <th>4</th>\n",
       "      <td>24.59</td>\n",
       "      <td>3.61</td>\n",
       "      <td>Female</td>\n",
       "      <td>No</td>\n",
       "      <td>Sun</td>\n",
       "      <td>Dinner</td>\n",
       "      <td>4</td>\n",
       "    </tr>\n",
       "  </tbody>\n",
       "</table>\n",
       "</div>"
      ],
      "text/plain": [
       "   total_bill  tip     sex smoker  day    time  size\n",
       "0       16.99 1.01  Female     No  Sun  Dinner     2\n",
       "1       10.34 1.66    Male     No  Sun  Dinner     3\n",
       "2       21.01 3.50    Male     No  Sun  Dinner     3\n",
       "3       23.68 3.31    Male     No  Sun  Dinner     2\n",
       "4       24.59 3.61  Female     No  Sun  Dinner     4"
      ]
     },
     "execution_count": 81,
     "metadata": {},
     "output_type": "execute_result"
    }
   ],
   "source": [
    "df.head()"
   ]
  },
  {
   "cell_type": "markdown",
   "metadata": {
    "id": "QnWpnuZpzWnw"
   },
   "source": [
    "## Question 1: What is the average total bill amount?"
   ]
  },
  {
   "cell_type": "code",
   "execution_count": 59,
   "metadata": {},
   "outputs": [
    {
     "data": {
      "text/plain": [
       "'the total average is '"
      ]
     },
     "metadata": {},
     "output_type": "display_data"
    },
    {
     "data": {
      "text/plain": [
       "19.78594262295082"
      ]
     },
     "metadata": {},
     "output_type": "display_data"
    }
   ],
   "source": [
    "display(\"the total average is \" , df[\"total_bill\"].mean(),)"
   ]
  },
  {
   "cell_type": "markdown",
   "metadata": {
    "id": "JHCnMe-kzk20"
   },
   "source": [
    "## Question 2: How many records are in the dataset?\n"
   ]
  },
  {
   "cell_type": "code",
   "execution_count": 60,
   "metadata": {},
   "outputs": [
    {
     "data": {
      "text/plain": [
       "'the totla records is --> 244'"
      ]
     },
     "execution_count": 60,
     "metadata": {},
     "output_type": "execute_result"
    }
   ],
   "source": [
    "# df.info()    # 244 records\n",
    "f\"the totla records is --> {df.day.count()}\""
   ]
  },
  {
   "cell_type": "markdown",
   "metadata": {
    "id": "SPo07k6SzoI2"
   },
   "source": [
    "## Question 3: What is the total amount of tips given by male customers?\n"
   ]
  },
  {
   "cell_type": "code",
   "execution_count": 61,
   "metadata": {},
   "outputs": [
    {
     "data": {
      "text/plain": [
       "tip   485.07\n",
       "dtype: float64"
      ]
     },
     "execution_count": 61,
     "metadata": {},
     "output_type": "execute_result"
    }
   ],
   "source": [
    "#df.sample()\n",
    "df[df[\"sex\"] == \"Male\"][[\"tip\"]].sum()"
   ]
  },
  {
   "cell_type": "markdown",
   "metadata": {
    "id": "1VacIheWzxVx"
   },
   "source": [
    "## Question 4: What is the maximum tip given?\n"
   ]
  },
  {
   "cell_type": "code",
   "execution_count": 62,
   "metadata": {},
   "outputs": [
    {
     "data": {
      "text/plain": [
       "10.0"
      ]
     },
     "execution_count": 62,
     "metadata": {},
     "output_type": "execute_result"
    }
   ],
   "source": [
    "df[\"tip\"].max()"
   ]
  },
  {
   "cell_type": "markdown",
   "metadata": {
    "id": "BpjN-WYaz1Zb"
   },
   "source": [
    "## Question 5: What are the unique days on which the tips were recorded?\n"
   ]
  },
  {
   "cell_type": "code",
   "execution_count": 63,
   "metadata": {},
   "outputs": [
    {
     "data": {
      "text/plain": [
       "array(['Sun', 'Sat', 'Thur', 'Fri'], dtype=object)"
      ]
     },
     "execution_count": 63,
     "metadata": {},
     "output_type": "execute_result"
    }
   ],
   "source": [
    "df.day.unique()"
   ]
  },
  {
   "cell_type": "markdown",
   "metadata": {
    "id": "G5o62RuK0oSi"
   },
   "source": [
    "## Question 6: What is the average tip amount given by female customers?\n"
   ]
  },
  {
   "cell_type": "code",
   "execution_count": 64,
   "metadata": {},
   "outputs": [
    {
     "data": {
      "text/plain": [
       "2.8334482758620685"
      ]
     },
     "execution_count": 64,
     "metadata": {},
     "output_type": "execute_result"
    }
   ],
   "source": [
    "df[df[\"sex\"] == \"Female\" ][\"tip\"].mean()"
   ]
  },
  {
   "cell_type": "markdown",
   "metadata": {
    "id": "rcr7bhgL0tEf"
   },
   "source": [
    "## Question 7: How many customers are non-smokers?\n"
   ]
  },
  {
   "cell_type": "code",
   "execution_count": 65,
   "metadata": {},
   "outputs": [
    {
     "name": "stdout",
     "output_type": "stream",
     "text": [
      " 151 non smokers\n"
     ]
    }
   ],
   "source": [
    "df.sample(5)\n",
    "non_smokers = df[df[\"smoker\"] == \"No\"][\"smoker\"].count()\n",
    "print(f\" {non_smokers} non smokers\")"
   ]
  },
  {
   "cell_type": "markdown",
   "metadata": {
    "id": "TX7HPM790yz3"
   },
   "source": [
    "## Question 8: What is the average total bill for dinners?\n"
   ]
  },
  {
   "cell_type": "code",
   "execution_count": 66,
   "metadata": {},
   "outputs": [
    {
     "data": {
      "text/plain": [
       "'avg total bill for dinners is = 20.79715909090909'"
      ]
     },
     "execution_count": 66,
     "metadata": {},
     "output_type": "execute_result"
    }
   ],
   "source": [
    "df.sample(3)\n",
    "avg_total_bill_for_dinners = df[df[\"time\"] == \"Dinner\"][\"total_bill\"].mean()\n",
    "\n",
    "(f\"avg total bill for dinners is = {avg_total_bill_for_dinners}\")"
   ]
  },
  {
   "cell_type": "markdown",
   "metadata": {
    "id": "PUKHp45z04H8"
   },
   "source": [
    "## Question 9: What is the smallest size of a group recorded?\n"
   ]
  },
  {
   "cell_type": "code",
   "execution_count": 67,
   "metadata": {},
   "outputs": [
    {
     "data": {
      "text/plain": [
       "'the smallest size of a group recorded is 1'"
      ]
     },
     "execution_count": 67,
     "metadata": {},
     "output_type": "execute_result"
    }
   ],
   "source": [
    "df.head()\n",
    "samallest_size = df[\"size\"].min()\n",
    "f\"the smallest size of a group recorded is {samallest_size}\""
   ]
  },
  {
   "cell_type": "markdown",
   "metadata": {
    "id": "b5CzsW2-1H5D"
   },
   "source": [
    "## Question 10: What is the standard deviation of the total bill amounts?\n"
   ]
  },
  {
   "cell_type": "code",
   "execution_count": 68,
   "metadata": {},
   "outputs": [
    {
     "data": {
      "text/plain": [
       "'the standard deviation of the total bill amounts is 8.902411954856856'"
      ]
     },
     "execution_count": 68,
     "metadata": {},
     "output_type": "execute_result"
    }
   ],
   "source": [
    "std_ = df[\"total_bill\"].std()\n",
    "f\"the standard deviation of the total bill amounts is {std_}\""
   ]
  },
  {
   "cell_type": "markdown",
   "metadata": {
    "id": "YSNjWBeD1lc-"
   },
   "source": [
    "## Question 11: How many male smokers are there compared to female smokers?\n"
   ]
  },
  {
   "cell_type": "code",
   "execution_count": 69,
   "metadata": {},
   "outputs": [
    {
     "name": "stdout",
     "output_type": "stream",
     "text": [
      "Number of male smokers is 157 which is 64.34426229508196 of total smokers\n",
      "Number of female smokers is 87 which is 35.65573770491803 of total smokers\n"
     ]
    }
   ],
   "source": [
    "male_smokers = df[df[\"sex\"] == \"Male\" ][\"smoker\"].count()\n",
    "female_smokers = df[df[\"sex\"] == \"Female\" ][\"smoker\"].count()\n",
    "\n",
    "print(f\"Number of male smokers is {male_smokers} which is {(male_smokers / (male_smokers + female_smokers)) * 100} of total smokers\")\n",
    "print(f\"Number of female smokers is {female_smokers} which is {(female_smokers / (male_smokers + female_smokers)) * 100} of total smokers\")"
   ]
  },
  {
   "cell_type": "markdown",
   "metadata": {
    "id": "dpN7kz5_2gra"
   },
   "source": [
    "## Question 12: How much more do male customers tip on average than female customers?"
   ]
  },
  {
   "cell_type": "code",
   "execution_count": 70,
   "metadata": {},
   "outputs": [
    {
     "data": {
      "text/plain": [
       "'AVG male customer tip is 3.0896178343949043 and  AVG female customer tip is 2.8334482758620685'"
      ]
     },
     "execution_count": 70,
     "metadata": {},
     "output_type": "execute_result"
    }
   ],
   "source": [
    "male_tip = df[df[\"sex\"] == \"Male\"][\"tip\"].mean()\n",
    "female_tip = df[df[\"sex\"] == \"Female\"][\"tip\"].mean()\n",
    "f\"AVG male customer tip is {male_tip} and  AVG female customer tip is {female_tip}\""
   ]
  },
  {
   "cell_type": "markdown",
   "metadata": {
    "id": "b7mTBmr_2ruR"
   },
   "source": [
    "## Question 13: What is the median tip amount given by customers on Thursdays?"
   ]
  },
  {
   "cell_type": "code",
   "execution_count": 71,
   "metadata": {},
   "outputs": [
    {
     "data": {
      "text/plain": [
       "'the median tip amount given by customers on Thursdays is , 2.3049999999999997'"
      ]
     },
     "execution_count": 71,
     "metadata": {},
     "output_type": "execute_result"
    }
   ],
   "source": [
    "f\"the median tip amount given by customers on Thursdays is , {df[df[\"day\"] == \"Thur\"][\"tip\"].median()}\""
   ]
  },
  {
   "cell_type": "markdown",
   "metadata": {
    "id": "QHElT5hT20Oy"
   },
   "source": [
    "## Question 14: What is the total tip amount given by customers on Friday?\n"
   ]
  },
  {
   "cell_type": "code",
   "execution_count": 72,
   "metadata": {},
   "outputs": [
    {
     "data": {
      "text/plain": [
       "'the totla tip amount given by customers on Friday is , 51.959999999999994'"
      ]
     },
     "execution_count": 72,
     "metadata": {},
     "output_type": "execute_result"
    }
   ],
   "source": [
    "f\"the totla tip amount given by customers on Friday is , {df[df[\"day\"] == \"Fri\"][\"tip\"].sum()}\""
   ]
  },
  {
   "cell_type": "markdown",
   "metadata": {
    "id": "TrGCWY4M3BXA"
   },
   "source": [
    "## Question 15: What is the average tip amount for non-smokers during dinner time?"
   ]
  },
  {
   "cell_type": "code",
   "execution_count": 73,
   "metadata": {},
   "outputs": [
    {
     "data": {
      "text/plain": [
       "'the average tip amount for non-smokers during dinner time is 3.1268867924528303'"
      ]
     },
     "execution_count": 73,
     "metadata": {},
     "output_type": "execute_result"
    }
   ],
   "source": [
    "f\"the average tip amount for non-smokers during dinner time is {df[(df[\"smoker\"] == \"No\") & (df[\"time\"] == \"Dinner\")][\"tip\"].mean()}\""
   ]
  },
  {
   "cell_type": "markdown",
   "metadata": {
    "id": "GX4IpGLw3apS"
   },
   "source": [
    "## Question 16: How much does the total bill vary between smokers and non-smokers?"
   ]
  },
  {
   "cell_type": "code",
   "execution_count": 74,
   "metadata": {},
   "outputs": [
    {
     "data": {
      "text/plain": [
       "967.0899999999992"
      ]
     },
     "execution_count": 74,
     "metadata": {},
     "output_type": "execute_result"
    }
   ],
   "source": [
    "abs(df[df[\"smoker\"] == \"Yes\"][\"total_bill\"].sum() - df[df[\"smoker\"] == \"No\"][\"total_bill\"].sum())"
   ]
  },
  {
   "cell_type": "markdown",
   "metadata": {
    "id": "sk1RdKdA3gjW"
   },
   "source": [
    "## Question 17: What is the most common day for customers to visit the restaurant?"
   ]
  },
  {
   "cell_type": "code",
   "execution_count": 75,
   "metadata": {},
   "outputs": [
    {
     "data": {
      "text/plain": [
       "'the common day is --> Sat '"
      ]
     },
     "execution_count": 75,
     "metadata": {},
     "output_type": "execute_result"
    }
   ],
   "source": [
    "common_day = df[\"day\"].mode()[0]\n",
    "f\"the common day is --> {common_day} \""
   ]
  },
  {
   "cell_type": "markdown",
   "metadata": {
    "id": "JZPzrSv13s5l"
   },
   "source": [
    "## Question 18: What is the range of tip amounts for female customers?\n"
   ]
  },
  {
   "cell_type": "code",
   "execution_count": 76,
   "metadata": {},
   "outputs": [
    {
     "data": {
      "text/plain": [
       "'range of tip amounts for female customers from 1.0 $ to 6.5 $ '"
      ]
     },
     "execution_count": 76,
     "metadata": {},
     "output_type": "execute_result"
    }
   ],
   "source": [
    "min_tip = df[df[\"sex\"] == \"Female\"][\"tip\"].min()\n",
    "max_tip = df[df[\"sex\"] == \"Female\"][\"tip\"].max()\n",
    "f\"range of tip amounts for female customers from {min_tip} $ to {max_tip} $ \"\n"
   ]
  },
  {
   "cell_type": "markdown",
   "metadata": {
    "id": "9Ph119P83yt9"
   },
   "source": [
    "## Question 19: Calculate the total bill for parties of 5 or more people (size).\n"
   ]
  },
  {
   "cell_type": "code",
   "execution_count": 77,
   "metadata": {},
   "outputs": [
    {
     "data": {
      "text/plain": [
       "'the total bill for parties of 5 or more people is 289.65999999999997'"
      ]
     },
     "execution_count": 77,
     "metadata": {},
     "output_type": "execute_result"
    }
   ],
   "source": [
    "f\"the total bill for parties of 5 or more people is {df[df[\"size\"] >= 5][\"total_bill\"].sum()}\""
   ]
  },
  {
   "cell_type": "markdown",
   "metadata": {
    "id": "yzo5Sqdk39Aw"
   },
   "source": [
    "## Question 20: What is the highest total bill recorded during lunch?\n"
   ]
  },
  {
   "cell_type": "code",
   "execution_count": 78,
   "metadata": {},
   "outputs": [
    {
     "data": {
      "text/plain": [
       "'the highest total bill recorded during lunch is 43.11 $'"
      ]
     },
     "execution_count": 78,
     "metadata": {},
     "output_type": "execute_result"
    }
   ],
   "source": [
    "f\"the highest total bill recorded during lunch is {df[df[\"time\"] == \"Lunch\"][\"total_bill\"].max()} $\""
   ]
  },
  {
   "cell_type": "markdown",
   "metadata": {
    "id": "4MeSEXbB4HG8"
   },
   "source": [
    "## Question 21: How many customers visited the restaurant on weekends (Saturday and Sunday) and ordered a total bill of more than $20?"
   ]
  },
  {
   "cell_type": "code",
   "execution_count": 79,
   "metadata": {},
   "outputs": [
    {
     "data": {
      "text/plain": [
       "'customers visited is 75 visitor'"
      ]
     },
     "execution_count": 79,
     "metadata": {},
     "output_type": "execute_result"
    }
   ],
   "source": [
    "f\"customers visited is {df[(df[\"day\"].isin([\"Sun\",\"Sat\"])) & (df[\"total_bill\"] > 20)][\"sex\"].count()} visitor\""
   ]
  },
  {
   "cell_type": "markdown",
   "metadata": {
    "id": "WIgnNtRO4K6L"
   },
   "source": [
    "\n",
    "\n",
    "```\n",
    "# Hint isin ()\n",
    "\n",
    "```\n",
    "\n"
   ]
  }
 ],
 "metadata": {
  "colab": {
   "private_outputs": true,
   "provenance": []
  },
  "kernelspec": {
   "display_name": "base",
   "language": "python",
   "name": "python3"
  },
  "language_info": {
   "codemirror_mode": {
    "name": "ipython",
    "version": 3
   },
   "file_extension": ".py",
   "mimetype": "text/x-python",
   "name": "python",
   "nbconvert_exporter": "python",
   "pygments_lexer": "ipython3",
   "version": "3.12.7"
  }
 },
 "nbformat": 4,
 "nbformat_minor": 0
}
