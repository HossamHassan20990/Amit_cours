{
 "cells": [
  {
   "cell_type": "markdown",
   "metadata": {
    "id": "Ui8LKXjlii3V"
   },
   "source": [
    "### 1) Write a program to print the maximum between two numbers. \n"
   ]
  },
  {
   "cell_type": "code",
   "execution_count": null,
   "metadata": {},
   "outputs": [],
   "source": [
    "#1\n",
    "print(max(5,6))\n",
    "\n",
    "#2\n",
    "def max_number (number1,number2):\n",
    "    if number1 > number2 :\n",
    "        return number1\n",
    "    else:\n",
    "        return number2\n",
    "\n",
    "result = max_number(5,6)\n",
    "print(result)\n",
    "print(max_number(5,6))\n",
    "\n",
    "#3\n",
    "def max__number (*numbers) :\n",
    "    result_def = numbers[0]\n",
    "    for number in numbers[1:]:\n",
    "        if number > result_def :\n",
    "            result_def = number\n",
    "    return result_def\n",
    "\n",
    "max__number(2,5,3,7,9,4)\n"
   ]
  },
  {
   "cell_type": "markdown",
   "metadata": {
    "id": "xQB_yP4rirZS"
   },
   "source": [
    "### 2) Write a program to find the maximum between three numbers.\n"
   ]
  },
  {
   "cell_type": "code",
   "execution_count": null,
   "metadata": {},
   "outputs": [],
   "source": [
    "#1\n",
    "print(max(5,6,7))\n",
    "\n",
    "#2\n",
    "def max_number (number1,number2,number3):\n",
    "    if number2 < number1 > number3:\n",
    "        return number1\n",
    "    elif number1 < number2 > number3 :\n",
    "        return number2\n",
    "    else:\n",
    "        return number3\n",
    "\n",
    "result = max_number(5,6,7)\n",
    "print(result)\n",
    "print(max_number(7,5,6))\n",
    "\n",
    "#3\n",
    "def max__number (*numbers) :\n",
    "    result_def = numbers[0]\n",
    "    for number in numbers[1:]:\n",
    "        if number > result_def :\n",
    "            result_def = number\n",
    "    return result_def\n",
    "\n",
    "max__number(7,9,4)\n"
   ]
  },
  {
   "cell_type": "markdown",
   "metadata": {
    "id": "di3xEq8mjBRK"
   },
   "source": [
    "### 3) Write a program to check whether a number is negative, or positive \n"
   ]
  },
  {
   "cell_type": "code",
   "execution_count": null,
   "metadata": {},
   "outputs": [],
   "source": [
    "def check__number (number) :\n",
    "    if number > 0 :\n",
    "        return \"A positive number\"\n",
    "    elif number < 0 :\n",
    "        return \"A negative number\"\n",
    "    else :\n",
    "        return \"Zero\"\n",
    "    \n",
    "print(check__number(-1))"
   ]
  },
  {
   "cell_type": "markdown",
   "metadata": {
    "id": "grc5Gk_RjFBe"
   },
   "source": [
    "### 4) Write a  program to check whether a number is even or odd  .\n"
   ]
  },
  {
   "cell_type": "code",
   "execution_count": null,
   "metadata": {},
   "outputs": [],
   "source": [
    "def check__number (number) :\n",
    "    if number == 0 :\n",
    "        return \"Zero\"\n",
    "    elif number % 2 != 0 :\n",
    "        return \"An odd number\"\n",
    "    else :\n",
    "        return \"An even number\"\n",
    "    \n",
    "print(check__number(3))"
   ]
  },
  {
   "cell_type": "markdown",
   "metadata": {
    "id": "PkPPTrivjran"
   },
   "source": [
    "### 5) Write a program to store numbers in the List and print its reverse"
   ]
  },
  {
   "cell_type": "code",
   "execution_count": null,
   "metadata": {},
   "outputs": [],
   "source": [
    "def reversed__numbers (*numbers) :\n",
    "    new__lest = []\n",
    "    for number in numbers :\n",
    "        new__lest.append(number)\n",
    "\n",
    "    return new__lest[-1::-1]\n",
    "\n",
    "reversed__numbers(1,2,3,4,5,6,7)\n"
   ]
  },
  {
   "cell_type": "markdown",
   "metadata": {},
   "source": [
    "### 6) Write a program to print the multiplcation table of any number"
   ]
  },
  {
   "cell_type": "code",
   "execution_count": null,
   "metadata": {},
   "outputs": [],
   "source": [
    "def multiplcation__taple (number) :\n",
    "    print(f\"The multiplcation table of number ({number}) is :\")\n",
    "    for item in range(1,13):\n",
    "        print(f\"{number} x {item} = {number * item}\")\n",
    "\n",
    "\n",
    "multiplcation__taple(6)\n"
   ]
  },
  {
   "cell_type": "markdown",
   "metadata": {},
   "source": [
    "### 7)Write a program to print all even numbers between 1 to 100.(using for loop)"
   ]
  },
  {
   "cell_type": "code",
   "execution_count": null,
   "metadata": {},
   "outputs": [],
   "source": [
    "# for number in range(1,101):\n",
    "#     if number % 2 == 0 :\n",
    "#         print(number)\n",
    "\n",
    "# print(\"###########\")\n",
    "\n",
    "for i in range(0,101,2):\n",
    "    if i == 0 :\n",
    "        continue\n",
    "    else:\n",
    "        print(i)\n"
   ]
  },
  {
   "cell_type": "markdown",
   "metadata": {},
   "source": [
    "# `THANK YOU`"
   ]
  }
 ],
 "metadata": {
  "colab": {
   "private_outputs": true,
   "provenance": []
  },
  "kernelspec": {
   "display_name": "base",
   "language": "python",
   "name": "python3"
  },
  "language_info": {
   "codemirror_mode": {
    "name": "ipython",
    "version": 3
   },
   "file_extension": ".py",
   "mimetype": "text/x-python",
   "name": "python",
   "nbconvert_exporter": "python",
   "pygments_lexer": "ipython3",
   "version": "3.12.7"
  }
 },
 "nbformat": 4,
 "nbformat_minor": 0
}
