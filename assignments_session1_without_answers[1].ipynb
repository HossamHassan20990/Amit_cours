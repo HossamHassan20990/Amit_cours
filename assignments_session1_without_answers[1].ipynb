{
 "cells": [
  {
   "cell_type": "markdown",
   "metadata": {
    "id": "WNEWD9hoA2Lr"
   },
   "source": [
    "<img src=\"https://i.redd.it/6brfmxf7b8ga1.png\" alt=\"Italian Trulli\">\n"
   ]
  },
  {
   "cell_type": "markdown",
   "metadata": {
    "id": "ev3RXIw1Jas5"
   },
   "source": [
    "### Exercise on data types"
   ]
  },
  {
   "cell_type": "markdown",
   "metadata": {
    "id": "xSe8nXGyJs_j"
   },
   "source": [
    "## <font color='red'>What data type would that be?</font>"
   ]
  },
  {
   "cell_type": "markdown",
   "metadata": {
    "id": "j_-RJr75JlQr"
   },
   "source": [
    "#### x = 5\n",
    "#### print(type(x))"
   ]
  },
  {
   "cell_type": "markdown",
   "metadata": {},
   "source": [
    "###  <font color='blue'>The output will be of the type 'int' --> \"integer\"</font>"
   ]
  },
  {
   "cell_type": "markdown",
   "metadata": {
    "id": "9vglOoDPJ5Ou"
   },
   "source": [
    "#### x = \"Hello World\"\n",
    "#### print(type(x))\n"
   ]
  },
  {
   "cell_type": "markdown",
   "metadata": {},
   "source": [
    "###  <font color='blue'>The output will be of the type 'str' --> \"string\"</font>"
   ]
  },
  {
   "cell_type": "markdown",
   "metadata": {
    "id": "luhdBZJkKDMT"
   },
   "source": [
    "#### x = 20.5\n",
    "#### print(type(x))"
   ]
  },
  {
   "cell_type": "markdown",
   "metadata": {},
   "source": [
    "###  <font color='blue'>The output will be of the type 'float' --> \"float\"</font>"
   ]
  },
  {
   "cell_type": "markdown",
   "metadata": {
    "id": "N8OO1mGhKC9u"
   },
   "source": [
    "#### x = [\"apple\", \"banana\", \"cherry\"]\n",
    "#### print(type(x))"
   ]
  },
  {
   "cell_type": "markdown",
   "metadata": {},
   "source": [
    "###  <font color='blue'>The output will be of the type 'list' --> \"list\"</font>"
   ]
  },
  {
   "cell_type": "markdown",
   "metadata": {
    "id": "cvV5m5_FKC2Y"
   },
   "source": [
    "#### x = (\"apple\", \"banana\", \"cherry\")\n",
    "#### print(type(x))"
   ]
  },
  {
   "cell_type": "markdown",
   "metadata": {},
   "source": [
    "###  <font color='blue'>The output will be of the type 'tuple' --> \"tuple\"</font>"
   ]
  },
  {
   "cell_type": "markdown",
   "metadata": {
    "id": "v6tA1ZLGKSej"
   },
   "source": [
    "#### x = {\"name\" : \"John\", \"age\" : 36}\n",
    "#### print(type(x))"
   ]
  },
  {
   "cell_type": "markdown",
   "metadata": {},
   "source": [
    "###  <font color='blue'>The output will be of the type 'dict' --> \"dictionary\"</font>"
   ]
  },
  {
   "cell_type": "markdown",
   "metadata": {
    "id": "sWMa3--SKbOz"
   },
   "source": [
    "#### x = True\n",
    "#### print(type(x))"
   ]
  },
  {
   "cell_type": "markdown",
   "metadata": {},
   "source": [
    "###  <font color='blue'>The output will be of the type 'bool' --> \"boolean\"</font>"
   ]
  },
  {
   "cell_type": "markdown",
   "metadata": {
    "id": "cV1O8CWnOD_A"
   },
   "source": [
    "## Exercise on Numbers"
   ]
  },
  {
   "cell_type": "markdown",
   "metadata": {
    "id": "66MX7NUrMOj9"
   },
   "source": [
    "#### Insert the correct syntax to convert x into a floating point number.\n",
    "\n"
   ]
  },
  {
   "cell_type": "code",
   "execution_count": 60,
   "metadata": {
    "id": "mbA3Hg9WKz4S"
   },
   "outputs": [
    {
     "name": "stdout",
     "output_type": "stream",
     "text": [
      "5.0\n",
      "<class 'float'>\n"
     ]
    }
   ],
   "source": [
    "# x = 5\n",
    "# x =....(x)\n",
    "# print(x)\n",
    "\n",
    "x = 5\n",
    "x = 5.0\n",
    "print(x)\n",
    "print(type(x))"
   ]
  },
  {
   "cell_type": "markdown",
   "metadata": {
    "id": "PfSGwBekMbfe"
   },
   "source": [
    "### Insert the correct syntax to convert x into a integer.\n",
    "\n"
   ]
  },
  {
   "cell_type": "code",
   "execution_count": 61,
   "metadata": {
    "id": "4u7ID11XMZ1z"
   },
   "outputs": [
    {
     "name": "stdout",
     "output_type": "stream",
     "text": [
      "5\n",
      "<class 'int'>\n"
     ]
    }
   ],
   "source": [
    "# x = 5.5\n",
    "# x =......(x)\n",
    "# print(x)\n",
    "\n",
    "x = 5.5\n",
    "x = 5\n",
    "print(x)\n",
    "print(type(x))"
   ]
  },
  {
   "cell_type": "markdown",
   "metadata": {
    "id": "QEHJkfIyOI3l"
   },
   "source": [
    "## Exercise on string"
   ]
  },
  {
   "cell_type": "markdown",
   "metadata": {
    "id": "vxDMzNuZM23J"
   },
   "source": [
    "### Use the `len()` function to print the length of the string.\n",
    "\n"
   ]
  },
  {
   "cell_type": "code",
   "execution_count": 62,
   "metadata": {
    "id": "LnECWV7kMwtZ"
   },
   "outputs": [
    {
     "name": "stdout",
     "output_type": "stream",
     "text": [
      "11\n"
     ]
    }
   ],
   "source": [
    "# x = \"Hello World\"\n",
    "# print(.........)\n",
    "\n",
    "x = \"Hello world\"\n",
    "print(len(x))"
   ]
  },
  {
   "cell_type": "markdown",
   "metadata": {
    "id": "B3G8CsbwNBzE"
   },
   "source": [
    "### Get the first character of the string txt.\n",
    "\n"
   ]
  },
  {
   "cell_type": "code",
   "execution_count": 63,
   "metadata": {
    "id": "i82C_E7IM_N_"
   },
   "outputs": [
    {
     "name": "stdout",
     "output_type": "stream",
     "text": [
      "H\n"
     ]
    }
   ],
   "source": [
    "# txt = \"Hello World\"\n",
    "# x = ..........\n",
    "\n",
    "txt = \"Hello world\"\n",
    "x = txt[0]\n",
    "print(x)"
   ]
  },
  {
   "cell_type": "markdown",
   "metadata": {
    "id": "eujFCvXmNKL5"
   },
   "source": [
    "### Get the characters from index 2 to index 4 (llo).\n",
    "\n"
   ]
  },
  {
   "cell_type": "code",
   "execution_count": 64,
   "metadata": {
    "id": "Spath1coNHS1"
   },
   "outputs": [
    {
     "name": "stdout",
     "output_type": "stream",
     "text": [
      "llo\n"
     ]
    }
   ],
   "source": [
    "# txt = \"Hello World\"\n",
    "#  x =........\n",
    "\n",
    "txt = \"Hello world\"\n",
    "x = txt[2:5]\n",
    "print(x)"
   ]
  },
  {
   "cell_type": "markdown",
   "metadata": {
    "id": "Rwv-8T_-NmeZ"
   },
   "source": [
    "##### Return the string without any whitespace at the beginning or the end.\n",
    "##### hint ` txt.strip()`\n"
   ]
  },
  {
   "cell_type": "code",
   "execution_count": 65,
   "metadata": {
    "id": "pg7InD_MNgBU"
   },
   "outputs": [
    {
     "name": "stdout",
     "output_type": "stream",
     "text": [
      "Hello world\n"
     ]
    }
   ],
   "source": [
    "# txt = \" Hello World \"\n",
    "# x =..................\n",
    "\n",
    "txt = \" Hello world \"\n",
    "x = txt.strip()\n",
    "print(x)"
   ]
  },
  {
   "cell_type": "markdown",
   "metadata": {
    "id": "gpoiVkmQOSc2"
   },
   "source": [
    "### Convert the value of `txt` to upper case.\n",
    "\n"
   ]
  },
  {
   "cell_type": "code",
   "execution_count": 66,
   "metadata": {
    "id": "30sq8_UBOPpH"
   },
   "outputs": [
    {
     "name": "stdout",
     "output_type": "stream",
     "text": [
      "HELLO WORLD\n"
     ]
    }
   ],
   "source": [
    "# txt = \"Hello World\"\n",
    "# txt = ........\n",
    "\n",
    "txt = \"Hello world\"\n",
    "x = txt.upper()\n",
    "print(x)\n"
   ]
  },
  {
   "cell_type": "markdown",
   "metadata": {
    "id": "-UpA2zFdOedr"
   },
   "source": [
    "### Convert the value of `txt` to lower case.\n",
    "\n"
   ]
  },
  {
   "cell_type": "code",
   "execution_count": 67,
   "metadata": {
    "id": "eIYJ6Jp2OclU"
   },
   "outputs": [
    {
     "name": "stdout",
     "output_type": "stream",
     "text": [
      "hello world\n"
     ]
    }
   ],
   "source": [
    "# txt = \"Hello World\"\n",
    "# txt = .........\n",
    "\n",
    "txt = \"Hello world\"\n",
    "txt = txt.lower()\n",
    "print(txt)\n"
   ]
  },
  {
   "cell_type": "markdown",
   "metadata": {
    "id": "WGC7GEv4Op57"
   },
   "source": [
    "#### Replace the character` H` with a `J`"
   ]
  },
  {
   "cell_type": "code",
   "execution_count": 68,
   "metadata": {
    "id": "asaMSta8OuXu"
   },
   "outputs": [
    {
     "name": "stdout",
     "output_type": "stream",
     "text": [
      "Jello world\n"
     ]
    }
   ],
   "source": [
    "# txt = \"Hello World\"\n",
    "# txt = txt. .......(...,... )\n",
    "\n",
    "txt = \"Hello world\"\n",
    "txt = txt.replace(\"H\",\"J\")\n",
    "print(txt)"
   ]
  },
  {
   "cell_type": "markdown",
   "metadata": {
    "id": "fx_3gDLmO9c5"
   },
   "source": [
    "#### Insert the correct syntax to add a placeholder for the age parameter.\n",
    "\n"
   ]
  },
  {
   "cell_type": "code",
   "execution_count": 69,
   "metadata": {
    "id": "pbF00OzXO_pd"
   },
   "outputs": [
    {
     "name": "stdout",
     "output_type": "stream",
     "text": [
      "My name is Hossam, and I am 36 years old\n"
     ]
    }
   ],
   "source": [
    "# age = 36\n",
    "# txt = f\"My name is John, and I am ......\"\n",
    "# print(txt)\n",
    "\n",
    "age = 36\n",
    "txt = f\"My name is Hossam, and I am {age} years old\"\n",
    "print(txt)"
   ]
  },
  {
   "cell_type": "markdown",
   "metadata": {
    "id": "aMfwLHLFQJt5"
   },
   "source": [
    "### Exercise on Booleans"
   ]
  },
  {
   "cell_type": "markdown",
   "metadata": {
    "id": "5LwqGd-4X6fz"
   },
   "source": [
    "The statement below would print a Boolean value, which one?\n",
    "\n"
   ]
  },
  {
   "cell_type": "code",
   "execution_count": 70,
   "metadata": {
    "id": "KE6bHyeFXwy_"
   },
   "outputs": [],
   "source": [
    "# print(10 > 9)\n",
    "# .............."
   ]
  },
  {
   "cell_type": "markdown",
   "metadata": {},
   "source": [
    "###  <font color='blue'>will print the True value\"</font>"
   ]
  },
  {
   "cell_type": "markdown",
   "metadata": {
    "id": "5qq9bEvzX8d4"
   },
   "source": [
    "The statement below would print a Boolean value, which one?\n",
    "\n"
   ]
  },
  {
   "cell_type": "code",
   "execution_count": 71,
   "metadata": {
    "id": "36MAoCaZX2k9"
   },
   "outputs": [],
   "source": [
    "# print(10 == 9)\n",
    "# ............"
   ]
  },
  {
   "cell_type": "markdown",
   "metadata": {},
   "source": [
    "###  <font color='blue'>will print the False value\"</font>"
   ]
  },
  {
   "cell_type": "markdown",
   "metadata": {
    "id": "I9flckHvYFLD"
   },
   "source": [
    "The statement below would print a Boolean value, which one?\n",
    "\n"
   ]
  },
  {
   "cell_type": "code",
   "execution_count": 72,
   "metadata": {
    "id": "vRTYkmrrYDcl"
   },
   "outputs": [],
   "source": [
    "# print(10 < 9)\n",
    "# ..........\n"
   ]
  },
  {
   "cell_type": "markdown",
   "metadata": {},
   "source": [
    "###  <font color='blue'>will print the False value\"</font>"
   ]
  },
  {
   "cell_type": "markdown",
   "metadata": {
    "id": "JRDSFOOWA4zY"
   },
   "source": [
    "### <font color='gold'>Exercise-1</font>"
   ]
  },
  {
   "cell_type": "markdown",
   "metadata": {
    "id": "Dx9awHoPBT5a"
   },
   "source": [
    "#### Write a Python program to print the following string in a specific format"
   ]
  },
  {
   "cell_type": "code",
   "execution_count": 73,
   "metadata": {
    "id": "gfBPq-8u_zDb"
   },
   "outputs": [],
   "source": [
    "# Twinkle, twinkle, little star,\n",
    "# \tHow I wonder what you are!\n",
    "# \t\tUp above the world so high,\n",
    "# \t\tLike a diamond in the sky.\n",
    "# Twinkle, twinkle, little star,\n",
    "# \tHow I wonder what you are!"
   ]
  },
  {
   "cell_type": "code",
   "execution_count": 74,
   "metadata": {},
   "outputs": [
    {
     "name": "stdout",
     "output_type": "stream",
     "text": [
      "\n",
      "Twinkle, twinkle, little star,\n",
      "\tHow I wonder what you are!\n",
      "\t\tUp above the world so high,\n",
      "\t\tLike a diamond in the sky.\n",
      "Twinkle, twinkle, little star,\n",
      "\tHow I wonder what you are!\n",
      "    \n"
     ]
    }
   ],
   "source": [
    "txt = '''\n",
    "Twinkle, twinkle, little star,\n",
    "\tHow I wonder what you are!\n",
    "\t\tUp above the world so high,\n",
    "\t\tLike a diamond in the sky.\n",
    "Twinkle, twinkle, little star,\n",
    "\tHow I wonder what you are!\n",
    "    '''\n",
    "\n",
    "print(txt)"
   ]
  },
  {
   "cell_type": "markdown",
   "metadata": {
    "id": "G-u5KbN6B4YA"
   },
   "source": [
    "### <font color='gold'>Exercise-2</font>"
   ]
  },
  {
   "cell_type": "markdown",
   "metadata": {
    "id": "1bEAep2SCDB2"
   },
   "source": [
    "#### Write a Python program that print the user's first and last name and prints them in reverse order with a space between them."
   ]
  },
  {
   "cell_type": "code",
   "execution_count": 75,
   "metadata": {},
   "outputs": [
    {
     "name": "stdout",
     "output_type": "stream",
     "text": [
      "nassaH massoH\n"
     ]
    }
   ],
   "source": [
    "user_name = \"Hossam Hassan\"   #nassaH massoH\n",
    "print(user_name[::-1])"
   ]
  },
  {
   "cell_type": "markdown",
   "metadata": {
    "id": "VIq-DlzYCjcp"
   },
   "source": [
    "### <font color='gold'>Exercise-3</font>"
   ]
  },
  {
   "cell_type": "markdown",
   "metadata": {
    "id": "W2i_oZiJCg4W"
   },
   "source": [
    "#### Write a Python program that calculates the area of a circle and radius = 1.1"
   ]
  },
  {
   "cell_type": "code",
   "execution_count": 76,
   "metadata": {},
   "outputs": [
    {
     "name": "stdout",
     "output_type": "stream",
     "text": [
      "The area of circle with radius 1.1 is = 4\n",
      "The area of circle with radius 1.1 is = 4\n"
     ]
    }
   ],
   "source": [
    "r = 1.1\n",
    "pai = 3.141592653589793\n",
    "area = pai * (r*r)\n",
    "\n",
    "print(f\"The area of circle with radius {r} is = {round(area)}\")\n",
    "\n",
    "# another solution\n",
    "import math\n",
    "_area = math.pi * pow(r,2)\n",
    "print(f\"The area of circle with radius {r} is = {round(_area)}\")\n"
   ]
  },
  {
   "cell_type": "markdown",
   "metadata": {
    "id": "3k4J4MTrDTTP"
   },
   "source": [
    "### <font color='gold'>Exercise-4</font>"
   ]
  },
  {
   "cell_type": "markdown",
   "metadata": {
    "id": "bODhD33ADPPZ"
   },
   "source": [
    "#### Write a Python program that accepts a filename from the user and prints the extension of the file."
   ]
  },
  {
   "cell_type": "markdown",
   "metadata": {
    "id": "IjgH1FN-DYQQ"
   },
   "source": [
    "Sample Output:\n",
    "Input the Filename: abc.java                                                                                  \n",
    "The  extension of the file is : 'java'"
   ]
  },
  {
   "cell_type": "code",
   "execution_count": 77,
   "metadata": {},
   "outputs": [
    {
     "name": "stdout",
     "output_type": "stream",
     "text": [
      "The extension of the file is : 'csv'\n"
     ]
    }
   ],
   "source": [
    "file_name = \"test_test_test.csv\"\n",
    "file_extension = file_name[file_name.find(\".\") + 1:]\n",
    "\n",
    "print(f\"The extension of the file is : '{file_extension}'\")"
   ]
  },
  {
   "cell_type": "markdown",
   "metadata": {
    "id": "hBSeDAHcEGPC"
   },
   "source": [
    "### <font color='gold'>Exercise-5</font>"
   ]
  },
  {
   "cell_type": "markdown",
   "metadata": {
    "id": "gnuQ4Hx2D722"
   },
   "source": [
    "#### Covert from string to list and tuple value =\"Amit\""
   ]
  },
  {
   "cell_type": "code",
   "execution_count": 78,
   "metadata": {},
   "outputs": [
    {
     "name": "stdout",
     "output_type": "stream",
     "text": [
      "['A', 'm', 'i', 't']\n",
      "('A', 'm', 'i', 't')\n"
     ]
    }
   ],
   "source": [
    "amit_str = \"Amit\"\n",
    "amit_list = list(amit_str)\n",
    "amit_tuple = tuple(amit_str)\n",
    "\n",
    "print(amit_list)\n",
    "print(amit_tuple)"
   ]
  },
  {
   "cell_type": "markdown",
   "metadata": {
    "id": "OQbk5DiyEosj"
   },
   "source": [
    " ## After that"
   ]
  },
  {
   "cell_type": "markdown",
   "metadata": {
    "id": "40fcwVkKEzUl"
   },
   "source": [
    "### Relace the index 3 in the list"
   ]
  },
  {
   "cell_type": "code",
   "execution_count": 79,
   "metadata": {},
   "outputs": [],
   "source": [
    "amit_list[3] = \"T\""
   ]
  },
  {
   "cell_type": "markdown",
   "metadata": {
    "id": "Ka4ECE3nFBzU"
   },
   "source": [
    " ### Convert the list to string and print the list"
   ]
  },
  {
   "cell_type": "code",
   "execution_count": 80,
   "metadata": {},
   "outputs": [
    {
     "name": "stdout",
     "output_type": "stream",
     "text": [
      "AmiT\n",
      "['A', 'm', 'i', 'T']\n"
     ]
    }
   ],
   "source": [
    "str_amit_str = ''.join(amit_list)\n",
    "\n",
    "print (str_amit_str)\n",
    "print (amit_list)"
   ]
  },
  {
   "cell_type": "markdown",
   "metadata": {
    "id": "lpeuOl7cFmn4"
   },
   "source": [
    "### <font color='gold'>Exercise-6</font>"
   ]
  },
  {
   "cell_type": "markdown",
   "metadata": {
    "id": "RuREUX33FqQZ"
   },
   "source": [
    "#### Write a Python program to display the first and last colors from the following list.\n",
    "\n"
   ]
  },
  {
   "cell_type": "markdown",
   "metadata": {
    "id": "53ptUyHGFt9I"
   },
   "source": [
    "#### color_list = [\"Red\",\"Green\",\"White\" ,\"Black\"]\n",
    "\n"
   ]
  },
  {
   "cell_type": "markdown",
   "metadata": {},
   "source": [
    "<img src=\"https://www.w3resource.com/w3r_images/python-basic-image-exercise-8.png\" alt=\"Italian Trulli\">\n"
   ]
  },
  {
   "cell_type": "code",
   "execution_count": 81,
   "metadata": {},
   "outputs": [
    {
     "name": "stdout",
     "output_type": "stream",
     "text": [
      "Red Black\n"
     ]
    }
   ],
   "source": [
    "color_list = [\"Red\",\"Green\",\"White\" ,\"Black\"]\n",
    "\n",
    "print(color_list[0],color_list[-1])"
   ]
  },
  {
   "cell_type": "markdown",
   "metadata": {
    "id": "N7XOS7s1GlYW"
   },
   "source": [
    "## <font color='gold'>Exercise-7</font>"
   ]
  },
  {
   "cell_type": "markdown",
   "metadata": {
    "id": "atL1CkPLGhLS"
   },
   "source": [
    "#### Write a Python program to print the following 'here document'.\n",
    "\n"
   ]
  },
  {
   "cell_type": "code",
   "execution_count": 82,
   "metadata": {
    "id": "YcD6QUiSGgq0"
   },
   "outputs": [],
   "source": [
    "# Sample Output:\n",
    "# a string that you \"don't\" have to escape\n",
    "# This\n",
    "# is a  ....... multi-line\n",
    "# heredoc string --------> example"
   ]
  },
  {
   "cell_type": "code",
   "execution_count": 83,
   "metadata": {},
   "outputs": [
    {
     "name": "stdout",
     "output_type": "stream",
     "text": [
      "\n",
      "Sample Output:\n",
      "a string that you \"don't\" have to escape\n",
      "This\n",
      "is a  ....... multi-line\n",
      "heredoc string --------> example \n",
      "      \n"
     ]
    }
   ],
   "source": [
    "print('''\n",
    "Sample Output:\n",
    "a string that you \"don't\" have to escape\n",
    "This\n",
    "is a  ....... multi-line\n",
    "heredoc string --------> example \n",
    "      ''')"
   ]
  },
  {
   "cell_type": "markdown",
   "metadata": {
    "id": "fUUhCO3Saeuy"
   },
   "source": [
    "## <font color='gold'>Exercise- 8</font>"
   ]
  },
  {
   "cell_type": "markdown",
   "metadata": {
    "id": "D_736VyMZcpE"
   },
   "source": [
    "###### I need to  check if  link `https://www.google.com/` strart with https or not and if the ` aimt4536@gmail.com` end with .com"
   ]
  },
  {
   "cell_type": "code",
   "execution_count": 84,
   "metadata": {},
   "outputs": [
    {
     "name": "stdout",
     "output_type": "stream",
     "text": [
      "moc.\n",
      "moc.\n",
      "\n",
      "valid link\n",
      "valid maile\n"
     ]
    }
   ],
   "source": [
    "link = \"https://www.google.com/\"\n",
    "amit_maile = \"aimt4536@gmail.com\"\n",
    "\n",
    "link_check = \"https\"\n",
    "if link[:5] == link_check :\n",
    "    link_result = \"valid link\"\n",
    "else :\n",
    "    link_result = \"unvalid link\"\n",
    "\n",
    "\n",
    "maile_check = \".com\"\n",
    "if amit_maile[-1:-5:-1] == maile_check[::-1] :\n",
    "    mail_result = \"valid maile\"\n",
    "else :\n",
    "    mail_result = \"unvalid maile\"\n",
    "\n",
    "print( amit_maile[-1:-5:-1] )\n",
    "print( maile_check[::-1] )\n",
    "print( amit_maile[-1:-4] )\n",
    "print (link_result)\n",
    "print (mail_result)"
   ]
  },
  {
   "cell_type": "markdown",
   "metadata": {
    "id": "Mpx-aFeYbnqW"
   },
   "source": [
    "# Thanks ❤"
   ]
  },
  {
   "cell_type": "markdown",
   "metadata": {
    "id": "dO7ga00LbWSq"
   },
   "source": [
    "<img src=\"https://pbs.twimg.com/media/ELwC6EgXYAE8AtN.jpg\" alt=\"Italian Trulli\">\n"
   ]
  }
 ],
 "metadata": {
  "colab": {
   "private_outputs": true,
   "provenance": []
  },
  "kernelspec": {
   "display_name": "Python 3",
   "name": "python3"
  },
  "language_info": {
   "codemirror_mode": {
    "name": "ipython",
    "version": 3
   },
   "file_extension": ".py",
   "mimetype": "text/x-python",
   "name": "python",
   "nbconvert_exporter": "python",
   "pygments_lexer": "ipython3",
   "version": "3.11.9"
  }
 },
 "nbformat": 4,
 "nbformat_minor": 0
}
